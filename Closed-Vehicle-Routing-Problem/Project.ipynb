{
  "cells": [
    {
      "cell_type": "markdown",
      "metadata": {
        "id": "j-_TWN8l_erV"
      },
      "source": [
        "# Nearest Neighbor Approach"
      ]
    },
    {
      "cell_type": "markdown",
      "metadata": {
        "id": "37mALvFBYYbs"
      },
      "source": [
        "## Preparing the data"
      ]
    },
    {
      "cell_type": "code",
      "execution_count": null,
      "metadata": {
        "collapsed": true,
        "id": "wD3EliQn8Mur"
      },
      "outputs": [],
      "source": [
        "pip install ortools"
      ]
    },
    {
      "cell_type": "code",
      "execution_count": null,
      "metadata": {
        "collapsed": true,
        "id": "9NAGLTL5Tgcu"
      },
      "outputs": [],
      "source": [
        "pip install openrouteservice"
      ]
    },
    {
      "cell_type": "code",
      "execution_count": 3,
      "metadata": {
        "id": "hR3TMDHc8SvU"
      },
      "outputs": [],
      "source": [
        "from ortools.constraint_solver import pywrapcp, routing_enums_pb2\n",
        "import openrouteservice\n",
        "import time\n",
        "import pandas as pd\n",
        "import numpy as np\n",
        "import json\n",
        "import math"
      ]
    },
    {
      "cell_type": "code",
      "execution_count": 5,
      "metadata": {
        "collapsed": true,
        "id": "OvULtWc387EO"
      },
      "outputs": [],
      "source": [
        "with open(\"data.json\") as f:\n",
        "  raw_data = json.load(f)\n",
        "\n",
        "#raw_data"
      ]
    },
    {
      "cell_type": "code",
      "execution_count": 6,
      "metadata": {
        "id": "iXPHvROk9jIb"
      },
      "outputs": [],
      "source": [
        "nodes = []\n",
        "\n",
        "for entry in raw_data:\n",
        "    node_id = entry[\"CustomerID\"]\n",
        "    x = entry[\"Longitude\"]\n",
        "    y = entry[\"Latitude\"]\n",
        "    city = entry[\"City\"]\n",
        "    demand = entry[\"Demand\"]\n",
        "    net_profit = entry[\"Net profit\"]\n",
        "\n",
        "\n",
        "    nodes.append({\n",
        "        'node_id': node_id,\n",
        "        'x': x,\n",
        "        'y': y,\n",
        "        'city': city,\n",
        "        'demand': demand,\n",
        "        'net_profit': net_profit\n",
        "    })"
      ]
    },
    {
      "cell_type": "code",
      "execution_count": null,
      "metadata": {
        "collapsed": true,
        "id": "B-9_1IqJ92Zd"
      },
      "outputs": [],
      "source": [
        "nodes # customerID = ID_0 is the depot"
      ]
    },
    {
      "cell_type": "markdown",
      "metadata": {
        "id": "S1f0ogcU_n8L"
      },
      "source": [
        "In the next code chunk, we will compute the distances using **OpenStreetMap (OSM)**, by adopting the routing service **OSRM (Open Source Routing Machine)**."
      ]
    },
    {
      "cell_type": "code",
      "execution_count": null,
      "metadata": {
        "collapsed": true,
        "id": "1Hqkk-2YInW9"
      },
      "outputs": [],
      "source": [
        "client = openrouteservice.Client(key='insert_your_API_key_here')\n",
        "\n",
        "# Initializing a list of coordinates\n",
        "#coordinates = [(n['x'], n['y']) for n in virtual_nodes]\n",
        "locations = [[node['x'], node['y']] for node in nodes]\n",
        "\n",
        "# Distance matrix\n",
        "num_nodes = len(locations)\n",
        "chunk_size = 10\n",
        "full_matrix = np.zeros((num_nodes, num_nodes))\n",
        "\n",
        "for i in range(0, num_nodes, chunk_size):\n",
        "    for j in range(0, num_nodes, chunk_size):\n",
        "        sources = list(range(i, min(i + chunk_size, num_nodes)))\n",
        "        destinations = list(range(j, min(j + chunk_size, num_nodes)))\n",
        "\n",
        "        try:\n",
        "            response = client.distance_matrix(\n",
        "                locations=locations,\n",
        "                profile='driving-hgv', # keeps into account heavy goods vehicles restrictions\n",
        "                metrics=['distance'],\n",
        "                units='km',\n",
        "                resolve_locations=False,\n",
        "                sources=sources,\n",
        "                destinations=destinations\n",
        "            )\n",
        "\n",
        "            distances = response['distances']\n",
        "            for si, src in enumerate(sources):\n",
        "                for di, dst in enumerate(destinations):\n",
        "                    full_matrix[src][dst] = distances[si][di]\n",
        "\n",
        "            print(f\"Processed block: rows {i}-{i+len(sources)-1}, cols {j}-{j+len(destinations)-1}\")\n",
        "\n",
        "        except Exception as e:\n",
        "            print(f\"Error on block ({i},{j}): {e}\")\n",
        "            print(\"Sleeping to avoid hitting rate limit...\")\n",
        "            time.sleep(60)  # wait a minute before retrying or continuing"
      ]
    },
    {
      "cell_type": "code",
      "source": [
        "node_ids = [node['node_id'] for node in nodes]\n",
        "\n",
        "distance_matrix_km = pd.DataFrame(full_matrix, index=node_ids, columns=node_ids)\n",
        "#print(distance_matrix_km)\n",
        "csv_output_path = '/content/distance_matrix_km.csv'\n",
        "distance_matrix_km.to_csv(csv_output_path)"
      ],
      "metadata": {
        "id": "Z1_iGlHcrwEr"
      },
      "execution_count": 9,
      "outputs": []
    },
    {
      "cell_type": "code",
      "source": [
        "distance_matrix_df = pd.read_csv('/content/distance_matrix_km.csv', index_col=0)\n",
        "distance_matrix_df.head()"
      ],
      "metadata": {
        "id": "ek8dgylKwYs9",
        "colab": {
          "base_uri": "https://localhost:8080/",
          "height": 256
        },
        "collapsed": true,
        "outputId": "58ff35c8-f570-4731-fce4-f2f80c1756f1"
      },
      "execution_count": 10,
      "outputs": [
        {
          "output_type": "execute_result",
          "data": {
            "text/plain": [
              "        ID_0   ID_1    ID_2    ID_3    ID_4    ID_5    ID_6    ID_7    ID_8  \\\n",
              "ID_0    0.00  68.64  134.81    9.26  127.81   11.38   22.35  178.42    4.24   \n",
              "ID_1   69.42   0.00   83.56   83.90   76.56   87.99   54.02  127.16   69.87   \n",
              "ID_2  137.21  82.11    0.00  151.69   12.71  146.55  124.35   50.43  140.20   \n",
              "ID_3    9.26  83.07  149.24    0.00  142.24    4.59   29.18  192.85   11.07   \n",
              "ID_4  129.95  74.85   12.75  144.43    0.00  139.29  117.09   61.12  132.94   \n",
              "\n",
              "        ID_9  ...   ID_11   ID_12   ID_13   ID_14   ID_15   ID_16   ID_17  \\\n",
              "ID_0   39.38  ...   39.38   36.30  158.99  181.51  173.98  157.26  175.74   \n",
              "ID_1   87.64  ...   87.65  101.89  107.74  130.26  122.73  106.01  124.49   \n",
              "ID_2  116.88  ...  116.89  169.68   31.01   53.52   45.99   29.27   47.75   \n",
              "ID_3   46.59  ...   46.59   32.21  173.43  195.94  188.41  171.69  190.17   \n",
              "ID_4  109.63  ...  109.63  162.43   41.70   64.22   56.69   39.97   58.44   \n",
              "\n",
              "       ID_18   ID_19  ID_20  \n",
              "ID_0  180.13  138.43  72.16  \n",
              "ID_1  128.88   87.17  94.75  \n",
              "ID_2   52.14   27.53  74.83  \n",
              "ID_3  194.56  152.86  82.27  \n",
              "ID_4   62.84   18.95  67.57  \n",
              "\n",
              "[5 rows x 21 columns]"
            ],
            "text/html": [
              "\n",
              "  <div id=\"df-656b70fa-17c5-4d5d-8451-ffee1694e2f7\" class=\"colab-df-container\">\n",
              "    <div>\n",
              "<style scoped>\n",
              "    .dataframe tbody tr th:only-of-type {\n",
              "        vertical-align: middle;\n",
              "    }\n",
              "\n",
              "    .dataframe tbody tr th {\n",
              "        vertical-align: top;\n",
              "    }\n",
              "\n",
              "    .dataframe thead th {\n",
              "        text-align: right;\n",
              "    }\n",
              "</style>\n",
              "<table border=\"1\" class=\"dataframe\">\n",
              "  <thead>\n",
              "    <tr style=\"text-align: right;\">\n",
              "      <th></th>\n",
              "      <th>ID_0</th>\n",
              "      <th>ID_1</th>\n",
              "      <th>ID_2</th>\n",
              "      <th>ID_3</th>\n",
              "      <th>ID_4</th>\n",
              "      <th>ID_5</th>\n",
              "      <th>ID_6</th>\n",
              "      <th>ID_7</th>\n",
              "      <th>ID_8</th>\n",
              "      <th>ID_9</th>\n",
              "      <th>...</th>\n",
              "      <th>ID_11</th>\n",
              "      <th>ID_12</th>\n",
              "      <th>ID_13</th>\n",
              "      <th>ID_14</th>\n",
              "      <th>ID_15</th>\n",
              "      <th>ID_16</th>\n",
              "      <th>ID_17</th>\n",
              "      <th>ID_18</th>\n",
              "      <th>ID_19</th>\n",
              "      <th>ID_20</th>\n",
              "    </tr>\n",
              "  </thead>\n",
              "  <tbody>\n",
              "    <tr>\n",
              "      <th>ID_0</th>\n",
              "      <td>0.00</td>\n",
              "      <td>68.64</td>\n",
              "      <td>134.81</td>\n",
              "      <td>9.26</td>\n",
              "      <td>127.81</td>\n",
              "      <td>11.38</td>\n",
              "      <td>22.35</td>\n",
              "      <td>178.42</td>\n",
              "      <td>4.24</td>\n",
              "      <td>39.38</td>\n",
              "      <td>...</td>\n",
              "      <td>39.38</td>\n",
              "      <td>36.30</td>\n",
              "      <td>158.99</td>\n",
              "      <td>181.51</td>\n",
              "      <td>173.98</td>\n",
              "      <td>157.26</td>\n",
              "      <td>175.74</td>\n",
              "      <td>180.13</td>\n",
              "      <td>138.43</td>\n",
              "      <td>72.16</td>\n",
              "    </tr>\n",
              "    <tr>\n",
              "      <th>ID_1</th>\n",
              "      <td>69.42</td>\n",
              "      <td>0.00</td>\n",
              "      <td>83.56</td>\n",
              "      <td>83.90</td>\n",
              "      <td>76.56</td>\n",
              "      <td>87.99</td>\n",
              "      <td>54.02</td>\n",
              "      <td>127.16</td>\n",
              "      <td>69.87</td>\n",
              "      <td>87.64</td>\n",
              "      <td>...</td>\n",
              "      <td>87.65</td>\n",
              "      <td>101.89</td>\n",
              "      <td>107.74</td>\n",
              "      <td>130.26</td>\n",
              "      <td>122.73</td>\n",
              "      <td>106.01</td>\n",
              "      <td>124.49</td>\n",
              "      <td>128.88</td>\n",
              "      <td>87.17</td>\n",
              "      <td>94.75</td>\n",
              "    </tr>\n",
              "    <tr>\n",
              "      <th>ID_2</th>\n",
              "      <td>137.21</td>\n",
              "      <td>82.11</td>\n",
              "      <td>0.00</td>\n",
              "      <td>151.69</td>\n",
              "      <td>12.71</td>\n",
              "      <td>146.55</td>\n",
              "      <td>124.35</td>\n",
              "      <td>50.43</td>\n",
              "      <td>140.20</td>\n",
              "      <td>116.88</td>\n",
              "      <td>...</td>\n",
              "      <td>116.89</td>\n",
              "      <td>169.68</td>\n",
              "      <td>31.01</td>\n",
              "      <td>53.52</td>\n",
              "      <td>45.99</td>\n",
              "      <td>29.27</td>\n",
              "      <td>47.75</td>\n",
              "      <td>52.14</td>\n",
              "      <td>27.53</td>\n",
              "      <td>74.83</td>\n",
              "    </tr>\n",
              "    <tr>\n",
              "      <th>ID_3</th>\n",
              "      <td>9.26</td>\n",
              "      <td>83.07</td>\n",
              "      <td>149.24</td>\n",
              "      <td>0.00</td>\n",
              "      <td>142.24</td>\n",
              "      <td>4.59</td>\n",
              "      <td>29.18</td>\n",
              "      <td>192.85</td>\n",
              "      <td>11.07</td>\n",
              "      <td>46.59</td>\n",
              "      <td>...</td>\n",
              "      <td>46.59</td>\n",
              "      <td>32.21</td>\n",
              "      <td>173.43</td>\n",
              "      <td>195.94</td>\n",
              "      <td>188.41</td>\n",
              "      <td>171.69</td>\n",
              "      <td>190.17</td>\n",
              "      <td>194.56</td>\n",
              "      <td>152.86</td>\n",
              "      <td>82.27</td>\n",
              "    </tr>\n",
              "    <tr>\n",
              "      <th>ID_4</th>\n",
              "      <td>129.95</td>\n",
              "      <td>74.85</td>\n",
              "      <td>12.75</td>\n",
              "      <td>144.43</td>\n",
              "      <td>0.00</td>\n",
              "      <td>139.29</td>\n",
              "      <td>117.09</td>\n",
              "      <td>61.12</td>\n",
              "      <td>132.94</td>\n",
              "      <td>109.63</td>\n",
              "      <td>...</td>\n",
              "      <td>109.63</td>\n",
              "      <td>162.43</td>\n",
              "      <td>41.70</td>\n",
              "      <td>64.22</td>\n",
              "      <td>56.69</td>\n",
              "      <td>39.97</td>\n",
              "      <td>58.44</td>\n",
              "      <td>62.84</td>\n",
              "      <td>18.95</td>\n",
              "      <td>67.57</td>\n",
              "    </tr>\n",
              "  </tbody>\n",
              "</table>\n",
              "<p>5 rows × 21 columns</p>\n",
              "</div>\n",
              "    <div class=\"colab-df-buttons\">\n",
              "\n",
              "  <div class=\"colab-df-container\">\n",
              "    <button class=\"colab-df-convert\" onclick=\"convertToInteractive('df-656b70fa-17c5-4d5d-8451-ffee1694e2f7')\"\n",
              "            title=\"Convert this dataframe to an interactive table.\"\n",
              "            style=\"display:none;\">\n",
              "\n",
              "  <svg xmlns=\"http://www.w3.org/2000/svg\" height=\"24px\" viewBox=\"0 -960 960 960\">\n",
              "    <path d=\"M120-120v-720h720v720H120Zm60-500h600v-160H180v160Zm220 220h160v-160H400v160Zm0 220h160v-160H400v160ZM180-400h160v-160H180v160Zm440 0h160v-160H620v160ZM180-180h160v-160H180v160Zm440 0h160v-160H620v160Z\"/>\n",
              "  </svg>\n",
              "    </button>\n",
              "\n",
              "  <style>\n",
              "    .colab-df-container {\n",
              "      display:flex;\n",
              "      gap: 12px;\n",
              "    }\n",
              "\n",
              "    .colab-df-convert {\n",
              "      background-color: #E8F0FE;\n",
              "      border: none;\n",
              "      border-radius: 50%;\n",
              "      cursor: pointer;\n",
              "      display: none;\n",
              "      fill: #1967D2;\n",
              "      height: 32px;\n",
              "      padding: 0 0 0 0;\n",
              "      width: 32px;\n",
              "    }\n",
              "\n",
              "    .colab-df-convert:hover {\n",
              "      background-color: #E2EBFA;\n",
              "      box-shadow: 0px 1px 2px rgba(60, 64, 67, 0.3), 0px 1px 3px 1px rgba(60, 64, 67, 0.15);\n",
              "      fill: #174EA6;\n",
              "    }\n",
              "\n",
              "    .colab-df-buttons div {\n",
              "      margin-bottom: 4px;\n",
              "    }\n",
              "\n",
              "    [theme=dark] .colab-df-convert {\n",
              "      background-color: #3B4455;\n",
              "      fill: #D2E3FC;\n",
              "    }\n",
              "\n",
              "    [theme=dark] .colab-df-convert:hover {\n",
              "      background-color: #434B5C;\n",
              "      box-shadow: 0px 1px 3px 1px rgba(0, 0, 0, 0.15);\n",
              "      filter: drop-shadow(0px 1px 2px rgba(0, 0, 0, 0.3));\n",
              "      fill: #FFFFFF;\n",
              "    }\n",
              "  </style>\n",
              "\n",
              "    <script>\n",
              "      const buttonEl =\n",
              "        document.querySelector('#df-656b70fa-17c5-4d5d-8451-ffee1694e2f7 button.colab-df-convert');\n",
              "      buttonEl.style.display =\n",
              "        google.colab.kernel.accessAllowed ? 'block' : 'none';\n",
              "\n",
              "      async function convertToInteractive(key) {\n",
              "        const element = document.querySelector('#df-656b70fa-17c5-4d5d-8451-ffee1694e2f7');\n",
              "        const dataTable =\n",
              "          await google.colab.kernel.invokeFunction('convertToInteractive',\n",
              "                                                    [key], {});\n",
              "        if (!dataTable) return;\n",
              "\n",
              "        const docLinkHtml = 'Like what you see? Visit the ' +\n",
              "          '<a target=\"_blank\" href=https://colab.research.google.com/notebooks/data_table.ipynb>data table notebook</a>'\n",
              "          + ' to learn more about interactive tables.';\n",
              "        element.innerHTML = '';\n",
              "        dataTable['output_type'] = 'display_data';\n",
              "        await google.colab.output.renderOutput(dataTable, element);\n",
              "        const docLink = document.createElement('div');\n",
              "        docLink.innerHTML = docLinkHtml;\n",
              "        element.appendChild(docLink);\n",
              "      }\n",
              "    </script>\n",
              "  </div>\n",
              "\n",
              "\n",
              "    <div id=\"df-6d7cf12f-619d-4eab-8f33-2c94731486bf\">\n",
              "      <button class=\"colab-df-quickchart\" onclick=\"quickchart('df-6d7cf12f-619d-4eab-8f33-2c94731486bf')\"\n",
              "                title=\"Suggest charts\"\n",
              "                style=\"display:none;\">\n",
              "\n",
              "<svg xmlns=\"http://www.w3.org/2000/svg\" height=\"24px\"viewBox=\"0 0 24 24\"\n",
              "     width=\"24px\">\n",
              "    <g>\n",
              "        <path d=\"M19 3H5c-1.1 0-2 .9-2 2v14c0 1.1.9 2 2 2h14c1.1 0 2-.9 2-2V5c0-1.1-.9-2-2-2zM9 17H7v-7h2v7zm4 0h-2V7h2v10zm4 0h-2v-4h2v4z\"/>\n",
              "    </g>\n",
              "</svg>\n",
              "      </button>\n",
              "\n",
              "<style>\n",
              "  .colab-df-quickchart {\n",
              "      --bg-color: #E8F0FE;\n",
              "      --fill-color: #1967D2;\n",
              "      --hover-bg-color: #E2EBFA;\n",
              "      --hover-fill-color: #174EA6;\n",
              "      --disabled-fill-color: #AAA;\n",
              "      --disabled-bg-color: #DDD;\n",
              "  }\n",
              "\n",
              "  [theme=dark] .colab-df-quickchart {\n",
              "      --bg-color: #3B4455;\n",
              "      --fill-color: #D2E3FC;\n",
              "      --hover-bg-color: #434B5C;\n",
              "      --hover-fill-color: #FFFFFF;\n",
              "      --disabled-bg-color: #3B4455;\n",
              "      --disabled-fill-color: #666;\n",
              "  }\n",
              "\n",
              "  .colab-df-quickchart {\n",
              "    background-color: var(--bg-color);\n",
              "    border: none;\n",
              "    border-radius: 50%;\n",
              "    cursor: pointer;\n",
              "    display: none;\n",
              "    fill: var(--fill-color);\n",
              "    height: 32px;\n",
              "    padding: 0;\n",
              "    width: 32px;\n",
              "  }\n",
              "\n",
              "  .colab-df-quickchart:hover {\n",
              "    background-color: var(--hover-bg-color);\n",
              "    box-shadow: 0 1px 2px rgba(60, 64, 67, 0.3), 0 1px 3px 1px rgba(60, 64, 67, 0.15);\n",
              "    fill: var(--button-hover-fill-color);\n",
              "  }\n",
              "\n",
              "  .colab-df-quickchart-complete:disabled,\n",
              "  .colab-df-quickchart-complete:disabled:hover {\n",
              "    background-color: var(--disabled-bg-color);\n",
              "    fill: var(--disabled-fill-color);\n",
              "    box-shadow: none;\n",
              "  }\n",
              "\n",
              "  .colab-df-spinner {\n",
              "    border: 2px solid var(--fill-color);\n",
              "    border-color: transparent;\n",
              "    border-bottom-color: var(--fill-color);\n",
              "    animation:\n",
              "      spin 1s steps(1) infinite;\n",
              "  }\n",
              "\n",
              "  @keyframes spin {\n",
              "    0% {\n",
              "      border-color: transparent;\n",
              "      border-bottom-color: var(--fill-color);\n",
              "      border-left-color: var(--fill-color);\n",
              "    }\n",
              "    20% {\n",
              "      border-color: transparent;\n",
              "      border-left-color: var(--fill-color);\n",
              "      border-top-color: var(--fill-color);\n",
              "    }\n",
              "    30% {\n",
              "      border-color: transparent;\n",
              "      border-left-color: var(--fill-color);\n",
              "      border-top-color: var(--fill-color);\n",
              "      border-right-color: var(--fill-color);\n",
              "    }\n",
              "    40% {\n",
              "      border-color: transparent;\n",
              "      border-right-color: var(--fill-color);\n",
              "      border-top-color: var(--fill-color);\n",
              "    }\n",
              "    60% {\n",
              "      border-color: transparent;\n",
              "      border-right-color: var(--fill-color);\n",
              "    }\n",
              "    80% {\n",
              "      border-color: transparent;\n",
              "      border-right-color: var(--fill-color);\n",
              "      border-bottom-color: var(--fill-color);\n",
              "    }\n",
              "    90% {\n",
              "      border-color: transparent;\n",
              "      border-bottom-color: var(--fill-color);\n",
              "    }\n",
              "  }\n",
              "</style>\n",
              "\n",
              "      <script>\n",
              "        async function quickchart(key) {\n",
              "          const quickchartButtonEl =\n",
              "            document.querySelector('#' + key + ' button');\n",
              "          quickchartButtonEl.disabled = true;  // To prevent multiple clicks.\n",
              "          quickchartButtonEl.classList.add('colab-df-spinner');\n",
              "          try {\n",
              "            const charts = await google.colab.kernel.invokeFunction(\n",
              "                'suggestCharts', [key], {});\n",
              "          } catch (error) {\n",
              "            console.error('Error during call to suggestCharts:', error);\n",
              "          }\n",
              "          quickchartButtonEl.classList.remove('colab-df-spinner');\n",
              "          quickchartButtonEl.classList.add('colab-df-quickchart-complete');\n",
              "        }\n",
              "        (() => {\n",
              "          let quickchartButtonEl =\n",
              "            document.querySelector('#df-6d7cf12f-619d-4eab-8f33-2c94731486bf button');\n",
              "          quickchartButtonEl.style.display =\n",
              "            google.colab.kernel.accessAllowed ? 'block' : 'none';\n",
              "        })();\n",
              "      </script>\n",
              "    </div>\n",
              "\n",
              "    </div>\n",
              "  </div>\n"
            ],
            "application/vnd.google.colaboratory.intrinsic+json": {
              "type": "dataframe",
              "variable_name": "distance_matrix_df"
            }
          },
          "metadata": {},
          "execution_count": 10
        }
      ]
    },
    {
      "cell_type": "code",
      "source": [
        "distance_matrix = distance_matrix_df.to_numpy()\n",
        "#print(distance_matrix)"
      ],
      "metadata": {
        "id": "PbDbrPFC25oF",
        "collapsed": true
      },
      "execution_count": 12,
      "outputs": []
    },
    {
      "cell_type": "code",
      "execution_count": 13,
      "metadata": {
        "colab": {
          "base_uri": "https://localhost:8080/"
        },
        "collapsed": true,
        "id": "OysqtO2n8F_O",
        "outputId": "d7a68ae3-ada2-4b04-f1d6-3caca59d061a"
      },
      "outputs": [
        {
          "output_type": "stream",
          "name": "stdout",
          "text": [
            "ORS route distance: 69.419 km\n"
          ]
        }
      ],
      "source": [
        "# Checking if the distances stored in the matrix are correct\n",
        "\n",
        "from_node = 1 # row (ID)\n",
        "to_node = 0 # column (ID)\n",
        "\n",
        "coords = [locations[from_node], locations[to_node]]\n",
        "route = client.directions(coords, profile='driving-hgv', units='km')\n",
        "print(f\"ORS route distance: {route['routes'][0]['summary']['distance']} km\")\n",
        "\n",
        "# The distances are slightly asymmetric"
      ]
    },
    {
      "cell_type": "markdown",
      "metadata": {
        "id": "IJthXXHzHHqX"
      },
      "source": [
        "## Setting up the model"
      ]
    },
    {
      "cell_type": "markdown",
      "metadata": {
        "id": "Hs02XHS0ezkR"
      },
      "source": [
        "We are defining a **closed multi-vehicle routing problem (CVRP)**, where our goal is to determine the optimal route to serve all customers using the shortest distance. Since the problem is NP-hard, we will use heuristics."
      ]
    },
    {
      "cell_type": "markdown",
      "metadata": {
        "id": "fUpt2eAxBLye"
      },
      "source": [
        "When a customer's demand exceeds any vehicle's capacity, OR-Tools cannot assign that node to any truck under its default \"visit once\" constraint. To fix this, we need to:\n",
        "* split the single high-demand nodes into multiple **virtual nodes**, each with a smaller demand\n",
        "* each virtual node represents a partial delivery to the same location\n",
        "* these virtual nodes allow OR-Tools to serve the customer with multiple trucks, each within capacity limits.\n",
        "\n",
        "Therefore, we filter the nodes, so that the ones having a demand that exceeds the maximum capacity are split into sub-nodes."
      ]
    },
    {
      "cell_type": "code",
      "source": [
        "allowed_capacity = [26, 34]\n",
        "\n",
        "vehicles = 60 # number of trucks"
      ],
      "metadata": {
        "id": "d9-bbqaCQLZU"
      },
      "execution_count": 14,
      "outputs": []
    },
    {
      "cell_type": "code",
      "source": [
        "def split_nodes(nodes, allowed_capacity):\n",
        "    allowed_capacity = sorted(allowed_capacity)\n",
        "\n",
        "    if set(allowed_capacity) != {26, 34}:\n",
        "        raise ValueError(\"The capacity must be either 26 or 34]\")\n",
        "\n",
        "    min_cap, max_cap = allowed_capacity # min_cap, max_cap = 26, 34\n",
        "    split_nodes = []\n",
        "\n",
        "    for node in nodes:\n",
        "        demand = node[\"demand\"]\n",
        "        if demand == 0: # skip depot\n",
        "            continue\n",
        "\n",
        "        base_profit = node[\"net_profit\"] / demand\n",
        "\n",
        "        if demand <= min_cap:\n",
        "            split_nodes.append(node)\n",
        "        elif demand <= max_cap:\n",
        "            split_nodes.append(node)\n",
        "        else:\n",
        "            parts = []\n",
        "            remaining = demand # tracking part of the demand that still need to be split\n",
        "\n",
        "            while remaining > max_cap:\n",
        "                parts.append(max_cap)\n",
        "                remaining -= max_cap\n",
        "\n",
        "            if remaining > 0:\n",
        "              parts.append(remaining)\n",
        "\n",
        "            for i, part_demand in enumerate(parts):\n",
        "                sub_node = {\n",
        "                    'node_id': f\"{node['node_id']}_{i+1}\",\n",
        "                    'x': node['x'],\n",
        "                    'y': node['y'],\n",
        "                    'city': node['city'],\n",
        "                    'demand': part_demand,\n",
        "                    'net_profit': round(part_demand * base_profit, 2)\n",
        "                }\n",
        "                split_nodes.append(sub_node)\n",
        "\n",
        "    return split_nodes"
      ],
      "metadata": {
        "id": "e-upyoXJOJ23"
      },
      "execution_count": 15,
      "outputs": []
    },
    {
      "cell_type": "code",
      "source": [
        "split_nodes = split_nodes(nodes, allowed_capacity)\n",
        "#split_nodes\n",
        "#len(split_nodes) --> 54"
      ],
      "metadata": {
        "collapsed": true,
        "id": "pS5wefC5oTq7"
      },
      "execution_count": 16,
      "outputs": []
    },
    {
      "cell_type": "code",
      "source": [
        "virtual_nodes = [nodes[0]] + split_nodes # adding the depot\n",
        "# len(virtual_nodes) --> 55"
      ],
      "metadata": {
        "collapsed": true,
        "id": "-tuHmv81v9i_"
      },
      "execution_count": 17,
      "outputs": []
    },
    {
      "cell_type": "code",
      "source": [
        "#virtual_nodes"
      ],
      "metadata": {
        "collapsed": true,
        "id": "eR9dYl-6cVGA"
      },
      "execution_count": null,
      "outputs": []
    },
    {
      "cell_type": "code",
      "source": [
        "# Map original node IDs to their indices in the original distance matrix\n",
        "original_index_map = {node['node_id']: idx for idx, node in enumerate(nodes)}\n",
        "\n",
        "# Extract virtual ID from original ID\n",
        "def extract_original_id(virtual_id):\n",
        "    return '_'.join(virtual_id.split('_')[:2])\n",
        "\n",
        "# Map each virtual node to its original node\n",
        "virtual_to_original = {\n",
        "    v_node['node_id']: extract_original_id(v_node['node_id'])\n",
        "    for v_node in virtual_nodes\n",
        "}\n",
        "\n",
        "# Prepare new virtual distance matrix\n",
        "n = len(virtual_nodes)\n",
        "virtual_distance_matrix = np.zeros((n, n))\n",
        "epsilon = 0.001  # small nonzero distance to avoid loops\n",
        "\n",
        "'''\n",
        "For example, if the original node has index 1 in the original distance matrix (full_matrix),\n",
        "then all of its sub-nodes (virtual nodes) will refer to that same index when building the virtual_distance_matrix.\n",
        "'''\n",
        "for i, vi in enumerate(virtual_nodes):\n",
        "    oi_idx = original_index_map[virtual_to_original[vi['node_id']]]\n",
        "\n",
        "    for j, vj in enumerate(virtual_nodes):\n",
        "        oj_idx = original_index_map[virtual_to_original[vj['node_id']]]\n",
        "\n",
        "        if i == j:\n",
        "            virtual_distance_matrix[i][j] = 0\n",
        "        elif virtual_to_original[vi['node_id']] == virtual_to_original[vj['node_id']]:\n",
        "            virtual_distance_matrix[i][j] = epsilon\n",
        "        else:\n",
        "            virtual_distance_matrix[i][j] = full_matrix[oi_idx][oj_idx]\n"
      ],
      "metadata": {
        "id": "_TRmogBrIomW"
      },
      "execution_count": 18,
      "outputs": []
    },
    {
      "cell_type": "code",
      "source": [
        "virtual_distance_matrix = np.where(\n",
        "    (virtual_distance_matrix % 1) > 0.5, # rounding if the decimal > 0.5\n",
        "    np.ceil(virtual_distance_matrix),\n",
        "    np.floor(virtual_distance_matrix)\n",
        ").astype(int)"
      ],
      "metadata": {
        "id": "7fJL-4OKZ-qt"
      },
      "execution_count": 19,
      "outputs": []
    },
    {
      "cell_type": "code",
      "source": [
        "#virtual_distance_matrix"
      ],
      "metadata": {
        "collapsed": true,
        "id": "GAuuDB_ogkDX"
      },
      "execution_count": 20,
      "outputs": []
    },
    {
      "cell_type": "code",
      "execution_count": 21,
      "metadata": {
        "id": "Mp313eeZ4isz"
      },
      "outputs": [],
      "source": [
        "def create_model():\n",
        "    data = {}\n",
        "    data['virtual_distance_matrix'] = virtual_distance_matrix\n",
        "    data['demand'] = [node['demand'] for node in virtual_nodes]\n",
        "    data['net_profit'] = [node['net_profit'] for node in virtual_nodes]\n",
        "    '''\n",
        "    OR-Tools doesn't natively support vehicles returning to the depot and starting again.\n",
        "    '''\n",
        "    data['vehicles'] = vehicles # number of trucks\n",
        "    data['vehicles_capacity'] = [34] * 45 + [26] * 15 # 26 = small trucks, 34 = big trucks\n",
        "    '''\n",
        "    The capacity for each truck can vary (one pallet = 1000 bottles),\n",
        "    depending on the dimensions of the vehicle. Smaller trucks can carry up to 26 pallets\n",
        "    while larger ones can carry up to 34 pallets.\n",
        "    '''\n",
        "    data['depot'] = 0  # node at index 0 = \"ID_0\", that is the depot\n",
        "    return data\n",
        "\n",
        "data = create_model()\n",
        "\n",
        "'''\n",
        "Manager handles mapping between our problem data and OR-Tool's internal index system\n",
        "'''\n",
        "manager = pywrapcp.RoutingIndexManager(\n",
        "    len(data['virtual_distance_matrix']),\n",
        "    data['vehicles'],\n",
        "    data['depot']\n",
        "    )\n",
        "\n",
        "'''\n",
        "Actual solver model\n",
        "'''\n",
        "routing = pywrapcp.RoutingModel(manager)"
      ]
    },
    {
      "cell_type": "code",
      "source": [
        "overall_profit = sum(data['net_profit'])\n",
        "#overall_profit"
      ],
      "metadata": {
        "id": "rQUttG5PJ1yr"
      },
      "execution_count": 22,
      "outputs": []
    },
    {
      "cell_type": "code",
      "source": [
        "#data"
      ],
      "metadata": {
        "collapsed": true,
        "id": "K-14K8Tpyg22"
      },
      "execution_count": null,
      "outputs": []
    },
    {
      "cell_type": "code",
      "source": [
        "# Debugging\n",
        "print(len(data['virtual_distance_matrix'])) # must be 55 = length of virtual nodes\n",
        "print(len(data['demand'])) # must be 55\n",
        "print(len(data['net_profit'])) # must be 55\n",
        "print(data['demand'][0])\n",
        "print(data['vehicles']) # 60\n",
        "print(len(data['vehicles_capacity'])) # [26,34]"
      ],
      "metadata": {
        "collapsed": true,
        "id": "y31cG3RybGYO"
      },
      "execution_count": null,
      "outputs": []
    },
    {
      "cell_type": "markdown",
      "metadata": {
        "id": "K2n4TUrnWkX8"
      },
      "source": [
        "### Defining the objective function"
      ]
    },
    {
      "cell_type": "markdown",
      "source": [
        "First of all, we need to define the **distance callback**, that is a function that takes any pair of locations and returns the distance between them.\n",
        "\n",
        "After, we need to define the **arc cost evaluator** which tells the solver how to compute the distance between two nodes. This means that the cost of travel between two locations is just the distance between them."
      ],
      "metadata": {
        "id": "7znUZj52facN"
      }
    },
    {
      "cell_type": "code",
      "execution_count": null,
      "metadata": {
        "id": "0s70KUtVWreo"
      },
      "outputs": [],
      "source": [
        "'''\n",
        "  Takes a pair of locations  as input. IndexToNode translates OR-Tools' internal\n",
        "  routing indices back into our original virtual nodes indices to compute the\n",
        "  distance between the two locations\n",
        "'''\n",
        "\n",
        "def distance_callback(from_index, to_index):\n",
        "    from_node = manager.IndexToNode(from_index)\n",
        "    to_node = manager.IndexToNode(to_index)\n",
        "    return int(data[\"virtual_distance_matrix\"][from_node][to_node])\n",
        "\n",
        "transit_callback_index = routing.RegisterTransitCallback(distance_callback)\n",
        "\n",
        "# Setting arc cost evaluator\n",
        "routing.SetArcCostEvaluatorOfAllVehicles(transit_callback_index)"
      ]
    },
    {
      "cell_type": "code",
      "source": [
        "# Checking...\n",
        "test_value = distance_callback(0, 1)\n",
        "print(\"Manual distance_function(0, 1):\", test_value) # correct"
      ],
      "metadata": {
        "id": "KyS4rNPiLXSb",
        "collapsed": true
      },
      "execution_count": null,
      "outputs": []
    },
    {
      "cell_type": "markdown",
      "metadata": {
        "id": "UHwfId0RIEz6"
      },
      "source": [
        "### Adding the capacity constraint"
      ]
    },
    {
      "cell_type": "markdown",
      "source": [
        "Beside the distance callback, we also need to define the **demand callback** that returns the demand at each location, and a dimension for the capacity constraint.\n",
        "\n",
        "Additionally, `AddDimensionsWithVehicleCapacity` takes a vector of capacities."
      ],
      "metadata": {
        "id": "u-kZytBShDBp"
      }
    },
    {
      "cell_type": "code",
      "execution_count": null,
      "metadata": {
        "id": "OBkUIW2hnz4_"
      },
      "outputs": [],
      "source": [
        "# Adding the capacity constraint (demand callback)\n",
        "\n",
        "def demand_callback(from_index):\n",
        "    from_node = manager.IndexToNode(from_index) # only depends on from_node, unlike the distance callback\n",
        "    return data[\"demand\"][from_node]\n",
        "\n",
        "demand_callback_index = routing.RegisterUnaryTransitCallback(demand_callback)\n",
        "\n",
        "routing.AddDimensionWithVehicleCapacity(\n",
        "    demand_callback_index,\n",
        "    0,  # vehicles loads must strictly not exceed their capacity --> no slack\n",
        "    data[\"vehicles_capacity\"],  # max capacity for each vehicle\n",
        "    True, # --> manually set the initial load in the \"Displaying the solutions\" code chunk\n",
        "    \"Capacity\"\n",
        ")"
      ]
    },
    {
      "cell_type": "code",
      "execution_count": null,
      "metadata": {
        "id": "f4_RTPP_Zb7t"
      },
      "outputs": [],
      "source": [
        "# Check if the total demand exceeds the capacity constraint\n",
        "\n",
        "total_demand = sum(data['demand'])\n",
        "total_capacity = sum(data['vehicles_capacity'])\n",
        "print(f\"Total Demand: {total_demand}, Total Capacity: {total_capacity}\") # Yes"
      ]
    },
    {
      "cell_type": "markdown",
      "metadata": {
        "id": "3oKXOIjcLikv"
      },
      "source": [
        "Since we are considering a **closed multi-vehicle routing problem**, we need to ensure that our model doesn't generate loops or suboptimal paths that don't return to the depot. *Subtour elimination* is handled automatically by OR-Tools through the *flow conservation constraint*, which ensures that:\n",
        "* all vehicles return to the depot after completing the assigned routes\n",
        "* multi-trips are not allowed, meaning that the trucks can't return to the depot to \"reload\"\n"
      ]
    },
    {
      "cell_type": "markdown",
      "metadata": {
        "id": "CYPCjKa0MT2C"
      },
      "source": [
        "## Solving the problem"
      ]
    },
    {
      "cell_type": "markdown",
      "metadata": {
        "id": "-nFbdAqdOc7o"
      },
      "source": [
        "In this section, we define the search parameters to perform the constructive and improving heuristic approaches.\n",
        "\n",
        "* `Guided Local Search` does not guarantee a global or even a local optimum in the strict mathematical sense, but it is designed to help escape poor local optima and find better solutions compared to basic local search."
      ]
    },
    {
      "cell_type": "code",
      "execution_count": 24,
      "metadata": {
        "id": "zUogUYvIoily"
      },
      "outputs": [],
      "source": [
        "# First: Constructive approach (PATH_CHEAPEST_ARC)\n",
        "\n",
        "search_parameters_first = pywrapcp.DefaultRoutingSearchParameters()\n",
        "search_parameters_first.time_limit.FromSeconds(30)\n",
        "\n",
        "search_parameters_first.first_solution_strategy = (routing_enums_pb2.FirstSolutionStrategy.PATH_CHEAPEST_ARC)\n",
        "\n",
        "solution_first = routing.SolveWithParameters(search_parameters_first)"
      ]
    },
    {
      "cell_type": "code",
      "source": [
        "# Second: Improving approach (GUIDED_LOCAL_SEARCH)\n",
        "\n",
        "search_parameters_second = pywrapcp.DefaultRoutingSearchParameters()\n",
        "search_parameters_second.time_limit.FromSeconds(30)\n",
        "\n",
        "search_parameters_second.first_solution_strategy = (routing_enums_pb2.FirstSolutionStrategy.PATH_CHEAPEST_ARC)\n",
        "search_parameters_second.local_search_metaheuristic = (routing_enums_pb2.LocalSearchMetaheuristic.GUIDED_LOCAL_SEARCH)\n",
        "\n",
        "solution_second = routing.SolveWithParameters(search_parameters_second)"
      ],
      "metadata": {
        "id": "GRPb10ALwMjd"
      },
      "execution_count": 25,
      "outputs": []
    },
    {
      "cell_type": "markdown",
      "metadata": {
        "id": "Hnh1Q4CeMvkH"
      },
      "source": [
        "## Displaying the solutions"
      ]
    },
    {
      "cell_type": "code",
      "source": [
        "# Checking if the distances are non-zero...\n",
        "\n",
        "total_distance = 0\n",
        "for vehicle_id in range(data['vehicles']):\n",
        "    index = routing.Start(vehicle_id)\n",
        "    route_distance = 0\n",
        "    route_nodes = []\n",
        "    while not routing.IsEnd(index):\n",
        "        route_nodes.append(manager.IndexToNode(index))\n",
        "        next_index = solution_first.Value(routing.NextVar(index)) # solution_second\n",
        "        route_distance += routing.GetArcCostForVehicle(index, next_index, vehicle_id)\n",
        "        index = next_index\n",
        "    route_nodes.append(manager.IndexToNode(index))\n",
        "    print(f\"Vehicle {vehicle_id} route: {route_nodes} distance: {route_distance} km\")\n",
        "    total_distance += route_distance\n",
        "print(f\"Total distance of all routes: {total_distance} km\")\n"
      ],
      "metadata": {
        "collapsed": true,
        "id": "b-eDPDq-jZy2"
      },
      "execution_count": null,
      "outputs": []
    },
    {
      "cell_type": "code",
      "source": [
        "def print_solution(data, manager, routing, solution):\n",
        "    print(f\"Objective: {solution.ObjectiveValue()}\") # ObjectiveValue() returns the optimal route and distance\n",
        "    total_distance = 0\n",
        "    total_load = 0\n",
        "\n",
        "    for vehicle_id in range(data[\"vehicles\"]):\n",
        "        index = routing.Start(vehicle_id)\n",
        "        route_load = data[\"vehicles_capacity\"][vehicle_id]  # start full\n",
        "        plan_output = f\"Route for vehicle {vehicle_id}:\\n\"\n",
        "        route_distance = 0\n",
        "\n",
        "        while not routing.IsEnd(index):\n",
        "            node_index = manager.IndexToNode(index)\n",
        "            plan_output += f\" {node_index} Load({route_load}) -> \"\n",
        "            previous_index = index\n",
        "            index = solution.Value(routing.NextVar(index))\n",
        "\n",
        "            if node_index != 0: # skipping the depot\n",
        "                route_load -= data[\"demand\"][node_index]\n",
        "\n",
        "            route_distance += routing.GetArcCostForVehicle(previous_index, index, vehicle_id)\n",
        "\n",
        "        plan_output += f\" {manager.IndexToNode(index)} Load({route_load})\\n\"\n",
        "        plan_output += f\"Distance of the route: {route_distance}km\\n\"\n",
        "        delivered_load = data['vehicles_capacity'][vehicle_id] - route_load\n",
        "        plan_output += f\"Amount delivered: {delivered_load}\\n\"\n",
        "        print(plan_output)\n",
        "\n",
        "        total_distance += route_distance\n",
        "        total_load += delivered_load\n",
        "\n",
        "    print(f\"Total distance of all routes: {total_distance}km\")\n",
        "    print(f\"Total amount delivered: {total_load}\")"
      ],
      "metadata": {
        "id": "f-pWcoB2nqID"
      },
      "execution_count": null,
      "outputs": []
    },
    {
      "cell_type": "code",
      "source": [
        "# First solution\n",
        "print_solution(data,manager,routing,solution_first) # 0 = truck in excess"
      ],
      "metadata": {
        "collapsed": true,
        "id": "mMfpkk-3n51a"
      },
      "execution_count": null,
      "outputs": []
    },
    {
      "cell_type": "code",
      "source": [
        "# Second solution\n",
        "print_solution(data,manager,routing,solution_second) # 0 = truck in excess"
      ],
      "metadata": {
        "collapsed": true,
        "id": "waLCFLmpwdBS"
      },
      "execution_count": null,
      "outputs": []
    },
    {
      "cell_type": "markdown",
      "source": [
        "## Visualization in QGIS"
      ],
      "metadata": {
        "id": "zhTgBrvzNO58"
      }
    },
    {
      "cell_type": "code",
      "source": [
        "pip install geojson"
      ],
      "metadata": {
        "collapsed": true,
        "id": "qET8JRuCQ5ib"
      },
      "execution_count": null,
      "outputs": []
    },
    {
      "cell_type": "code",
      "source": [
        "node_ids = [vn['node_id'] for vn in virtual_nodes]\n",
        "\n",
        "node_coords = {i: (vn['x'], vn['y']) for i, vn in enumerate(virtual_nodes)}\n",
        "\n",
        "# Mapping\n",
        "index_to_node_id = {i: vn['node_id'] for i, vn in enumerate(virtual_nodes)}\n",
        "node_id_to_index = {vn['node_id']: i for i, vn in enumerate(virtual_nodes)}"
      ],
      "metadata": {
        "collapsed": true,
        "id": "iUZynQMzPsLy"
      },
      "execution_count": null,
      "outputs": []
    },
    {
      "cell_type": "code",
      "source": [
        "# Generating a list of routes for each solution\n",
        "\n",
        "def extract_routes(manager, routing, solution):\n",
        "    all_routes = []\n",
        "    for vehicle_id in range(routing.vehicles()):\n",
        "        index = routing.Start(vehicle_id)\n",
        "        route = []\n",
        "        while not routing.IsEnd(index):\n",
        "            node_index = manager.IndexToNode(index)\n",
        "            route.append(node_index)\n",
        "            index = solution.Value(routing.NextVar(index))\n",
        "        route.append(manager.IndexToNode(index))\n",
        "        if len(route) > 2:  # skip unused vehicles\n",
        "            all_routes.append(route)\n",
        "    return all_routes\n",
        "\n",
        "routes_first = extract_routes(manager, routing, solution_first)\n",
        "routes_second = extract_routes(manager, routing, solution_second)"
      ],
      "metadata": {
        "id": "GvVoso-cOyme"
      },
      "execution_count": null,
      "outputs": []
    },
    {
      "cell_type": "code",
      "source": [
        "coord_list = list(node_coords.values())"
      ],
      "metadata": {
        "id": "qtoCBG_VNxNM"
      },
      "execution_count": null,
      "outputs": []
    },
    {
      "cell_type": "code",
      "source": [
        "import geojson\n",
        "'''\n",
        "def routes_to_geojson(routes, node_coords, label_prefix):\n",
        "    features = []\n",
        "    for idx, route in enumerate(routes):\n",
        "        coords = [node_coords[node] for node in route]\n",
        "        line = geojson.LineString(coords)\n",
        "        feature = geojson.Feature(geometry=line, properties={\"route\": f\"{label_prefix}_{idx}\"})\n",
        "        features.append(feature)\n",
        "    return geojson.FeatureCollection(features)\n",
        "'''\n",
        "\n",
        "def get_route_geometry(client, coord_list): # client = API key\n",
        "    route = client.directions(\n",
        "        coordinates=coord_list,\n",
        "        profile='driving-hgv', # '-hgv' for heavy goods vehicles\n",
        "        format='geojson',\n",
        "        radiuses=[1000] * len(coord_list) # must be of same length of coord_list\n",
        "    )\n",
        "    return route['features'][0]['geometry']\n"
      ],
      "metadata": {
        "id": "FbQa5BatNfLX"
      },
      "execution_count": null,
      "outputs": []
    },
    {
      "cell_type": "code",
      "source": [
        "def routes_to_geojson(routes, node_coords, label_prefix, client):\n",
        "    features = []\n",
        "    for idx, route in enumerate(routes):\n",
        "        coords = [node_coords[node] for node in route]\n",
        "        try:\n",
        "            geometry = get_route_geometry(client, coords)\n",
        "            feature = geojson.Feature(geometry=geometry, properties={\"route\": f\"{label_prefix}_{idx}\"})\n",
        "            features.append(feature)\n",
        "        except Exception as e:\n",
        "            print(f\"Error in generating route for {label_prefix}_{idx}: {e}\")\n",
        "    return geojson.FeatureCollection(features)\n"
      ],
      "metadata": {
        "id": "rCoKhefgMqrH"
      },
      "execution_count": null,
      "outputs": []
    },
    {
      "cell_type": "code",
      "source": [
        "geojson_first = routes_to_geojson(routes_first, node_coords, \"First\", client)\n",
        "geojson_second = routes_to_geojson(routes_second, node_coords, \"Second\", client)\n",
        "\n",
        "with open(\"first_solution_routes.geojson\", \"w\") as f:\n",
        "    geojson.dump(geojson_first, f)\n",
        "\n",
        "with open(\"second_solution_routes.geojson\", \"w\") as f:\n",
        "    geojson.dump(geojson_second, f)\n"
      ],
      "metadata": {
        "id": "fqEF3b4gPIAZ",
        "collapsed": true
      },
      "execution_count": null,
      "outputs": []
    },
    {
      "cell_type": "markdown",
      "source": [
        "# Metaheuristic Tuning"
      ],
      "metadata": {
        "id": "HKqiOh8q-v4w"
      }
    },
    {
      "cell_type": "markdown",
      "source": [
        "In this section, we're going to compare different solutions obtained using various OR-Tools solvers."
      ],
      "metadata": {
        "id": "iixxEI0U-4Ta"
      }
    },
    {
      "cell_type": "markdown",
      "source": [
        "So far, we have used `GUIDED_LOCAL_SEARCH` which is designed to escape the local minima by encouraging the solver to explore alternatives. It's particularly effective since it balaces eploration (trying new solutions) and exploitation (improving exisiting solutions), making it suitable in constraint-heavy problems such as CVRPs.\n",
        "\n",
        "Most importantly, it respects hard constraints such as capacity, and attempts to include all the available nodes if possible.\n"
      ],
      "metadata": {
        "id": "cpVze5C5DTDn"
      }
    },
    {
      "cell_type": "markdown",
      "source": [
        "## Third solution"
      ],
      "metadata": {
        "id": "sceebx9rHy51"
      }
    },
    {
      "cell_type": "markdown",
      "source": [
        "`TABU_SEARCH` may skip certain moves which might unintentionally block needed routes necessary to visit all nodes. Since OR-Tools, by default, does not force the solver to serve all customers, `TABU_SEARCH` may provide a partial solution if no feasible improvement exists."
      ],
      "metadata": {
        "id": "RkKkA2hBXkh2"
      }
    },
    {
      "cell_type": "code",
      "source": [
        "# Third: Improving approach (TABU_SEARCH)\n",
        "search_parameters_third = pywrapcp.DefaultRoutingSearchParameters()\n",
        "search_parameters_third.time_limit.FromSeconds(30)\n",
        "\n",
        "search_parameters_third.first_solution_strategy = (routing_enums_pb2.FirstSolutionStrategy.PATH_CHEAPEST_ARC)\n",
        "search_parameters_third.local_search_metaheuristic = (routing_enums_pb2.LocalSearchMetaheuristic.TABU_SEARCH)\n",
        "\n",
        "solution_third = routing.SolveWithParameters(search_parameters_third)"
      ],
      "metadata": {
        "id": "2yi_c4Cy_K8x"
      },
      "execution_count": null,
      "outputs": []
    },
    {
      "cell_type": "code",
      "source": [
        "# Third solution\n",
        "print_solution(data,manager,routing,solution_third) # 0 = truck in excess\n",
        "\n",
        "# Same solution as the original local search"
      ],
      "metadata": {
        "collapsed": true,
        "id": "2BFL1dqs_TIq"
      },
      "execution_count": null,
      "outputs": []
    },
    {
      "cell_type": "markdown",
      "source": [
        "## Fourth solution"
      ],
      "metadata": {
        "id": "kpW5qaVC5LIB"
      }
    },
    {
      "cell_type": "code",
      "source": [
        "# Fourth: Improving approach (AUTOMATIC)\n",
        "search_parameters_fourth = pywrapcp.DefaultRoutingSearchParameters()\n",
        "search_parameters_fourth.time_limit.FromSeconds(30)\n",
        "\n",
        "#search_parameters_fourth.first_solution_strategy = (routing_enums_pb2.FirstSolutionStrategy.AUTOMATIC) > weak heuristic\n",
        "search_parameters_fourth.first_solution_strategy = (routing_enums_pb2.FirstSolutionStrategy.PATH_CHEAPEST_ARC)\n",
        "search_parameters_fourth.local_search_metaheuristic = (routing_enums_pb2.LocalSearchMetaheuristic.AUTOMATIC)\n",
        "\n",
        "solution_fourth = routing.SolveWithParameters(search_parameters_fourth)"
      ],
      "metadata": {
        "id": "SPYGC8jRKK9s"
      },
      "execution_count": null,
      "outputs": []
    },
    {
      "cell_type": "code",
      "source": [
        "# Fourth solution\n",
        "print_solution(data,manager,routing,solution_fourth) # 0 = truck in excess\n",
        "\n",
        "# Same solution as the First Solution"
      ],
      "metadata": {
        "collapsed": true,
        "id": "z3j3qaoCKs5e"
      },
      "execution_count": null,
      "outputs": []
    },
    {
      "cell_type": "markdown",
      "source": [
        "## Fifth solution"
      ],
      "metadata": {
        "id": "niwlOFOQQ_le"
      }
    },
    {
      "cell_type": "code",
      "source": [
        "# Fifth: Improving approach (SIMULATED_ANNEALING)\n",
        "search_parameters_fifth = pywrapcp.DefaultRoutingSearchParameters()\n",
        "search_parameters_fifth.time_limit.FromSeconds(30)\n",
        "\n",
        "search_parameters_fifth.first_solution_strategy = (routing_enums_pb2.FirstSolutionStrategy.PATH_CHEAPEST_ARC)\n",
        "search_parameters_fifth.local_search_metaheuristic = (routing_enums_pb2.LocalSearchMetaheuristic.SIMULATED_ANNEALING)\n",
        "\n",
        "solution_fifth = routing.SolveWithParameters(search_parameters_fifth)"
      ],
      "metadata": {
        "id": "H4gQglXiRIAs"
      },
      "execution_count": null,
      "outputs": []
    },
    {
      "cell_type": "code",
      "source": [
        "# Fifth solution\n",
        "print_solution(data,manager,routing,solution_fifth) # 0 = truck in excess\n",
        "\n",
        "# Same solution as the First Solution"
      ],
      "metadata": {
        "collapsed": true,
        "id": "6UUm0llCRfAS"
      },
      "execution_count": null,
      "outputs": []
    },
    {
      "cell_type": "markdown",
      "source": [
        "## Sixth solution"
      ],
      "metadata": {
        "id": "jfJ0mn68XPaa"
      }
    },
    {
      "cell_type": "code",
      "source": [
        "# Fifth: Improving approach (GREEDY_DESCENT)\n",
        "search_parameters_sixth = pywrapcp.DefaultRoutingSearchParameters()\n",
        "search_parameters_sixth.time_limit.FromSeconds(30)\n",
        "\n",
        "search_parameters_sixth.first_solution_strategy = (routing_enums_pb2.FirstSolutionStrategy.PATH_CHEAPEST_ARC)\n",
        "search_parameters_sixth.local_search_metaheuristic = (routing_enums_pb2.LocalSearchMetaheuristic.GREEDY_DESCENT)\n",
        "\n",
        "solution_sixth = routing.SolveWithParameters(search_parameters_sixth)"
      ],
      "metadata": {
        "id": "cAqUHQfAXO8u"
      },
      "execution_count": null,
      "outputs": []
    },
    {
      "cell_type": "code",
      "source": [
        "# Sixth solution\n",
        "print_solution(data,manager,routing,solution_sixth) # 0 = truck in excess\n",
        "\n",
        "# Same solution as the First Solution"
      ],
      "metadata": {
        "collapsed": true,
        "id": "nE3gKTDhYE8G"
      },
      "execution_count": null,
      "outputs": []
    },
    {
      "cell_type": "markdown",
      "metadata": {
        "id": "DPLED6t1Ynb5"
      },
      "source": [
        "# Cluster-first, Route-second Approach"
      ]
    },
    {
      "cell_type": "markdown",
      "source": [
        "This approach entails partitioning the customers (nodes) into clusters. The goal is to divide the entire customer set into smaller subsets. Clustering can be based on different criteria, such as geographic proximity or demand similarity.\n",
        "\n",
        "After clustering, we solve a routing problem separately for each cluster. For each of them, we find the optimal or near-optimal route that starts and ends at the depot and visits all customers in that cluster.\n"
      ],
      "metadata": {
        "id": "l17XLVxUirlQ"
      }
    },
    {
      "cell_type": "code",
      "source": [
        "node_ids = [node['node_id'] for node in virtual_nodes]\n",
        "node_id_to_index = {vn['node_id']: i for i, vn in enumerate(virtual_nodes)}\n",
        "demands = data['demand']\n",
        "vehicles_capacity = data['vehicles_capacity']"
      ],
      "metadata": {
        "id": "I2pgMzAFA7aI"
      },
      "execution_count": null,
      "outputs": []
    },
    {
      "cell_type": "markdown",
      "source": [
        "## Clustering by closeness"
      ],
      "metadata": {
        "id": "FiNMzXnpBckL"
      }
    },
    {
      "cell_type": "markdown",
      "source": [
        "### Clustering"
      ],
      "metadata": {
        "id": "3LL5V-ms-R0f"
      }
    },
    {
      "cell_type": "markdown",
      "source": [
        "The following algorithm picks the first unvisited node as a seed for a cluster, then finds all the other unvisited nodes and sorts them by distance from this seed. After, adds the closest node to the cluster."
      ],
      "metadata": {
        "id": "BIGcWSt2YWez"
      }
    },
    {
      "cell_type": "code",
      "source": [
        "def cluster_by_closeness(demands, virtual_distance_matrix, max_cluster_size=9):\n",
        "    \"\"\"\n",
        "    max_cluster_size: optional max number of nodes per cluster to avoid huge clusters.\n",
        "    \"\"\"\n",
        "    n = len(demands)\n",
        "    visited = [False] * n\n",
        "    visited[0] = True  # depot excluded from clustering --> depot is not a node\n",
        "    clusters = []\n",
        "\n",
        "    while any(not v for v in visited[1:]):\n",
        "        candidates = [i for i in range(1, n) if not visited[i]]\n",
        "        seed = candidates[0]  # picking the first unvisited node\n",
        "\n",
        "        cluster = [seed]\n",
        "        visited[seed] = True\n",
        "\n",
        "        virtual_distances = [(virtual_distance_matrix[seed][j], j) for j in range(1, n) if not visited[j]]\n",
        "        virtual_distances.sort()\n",
        "\n",
        "        for _, node in virtual_distances:\n",
        "            if max_cluster_size and len(cluster) >= max_cluster_size:\n",
        "                break\n",
        "            cluster.append(node)\n",
        "            visited[node] = True\n",
        "\n",
        "        clusters.append(cluster)\n",
        "\n",
        "    return clusters"
      ],
      "metadata": {
        "id": "nGpJ1O4boqzJ"
      },
      "execution_count": null,
      "outputs": []
    },
    {
      "cell_type": "markdown",
      "source": [
        "### Solving the problem"
      ],
      "metadata": {
        "id": "sU-JuhgN-UW4"
      }
    },
    {
      "cell_type": "code",
      "source": [
        "def solve_clusters(clusters, virtual_distance_matrix, demands, vehicles_capacity, vehicles, use_local_search=True):\n",
        "    from ortools.constraint_solver import pywrapcp, routing_enums_pb2\n",
        "\n",
        "    depot = 0\n",
        "    num_nodes = len(demands)\n",
        "\n",
        "    data = {\n",
        "        'virtual_distance_matrix': virtual_distance_matrix,\n",
        "        'demand': demands,\n",
        "        'vehicles_capacity': vehicles_capacity,\n",
        "        'vehicles': vehicles,\n",
        "        'depot': depot\n",
        "    }\n",
        "\n",
        "    manager = pywrapcp.RoutingIndexManager(\n",
        "        len(data['virtual_distance_matrix']),\n",
        "        data['vehicles'],\n",
        "        data['depot']\n",
        "    )\n",
        "\n",
        "    routing = pywrapcp.RoutingModel(manager)\n",
        "\n",
        "    # Distance callback\n",
        "    def distance_callback(from_index, to_index):\n",
        "        from_node = manager.IndexToNode(from_index)\n",
        "        to_node = manager.IndexToNode(to_index)\n",
        "        return data['virtual_distance_matrix'][from_node][to_node]\n",
        "\n",
        "    transit_callback_index = routing.RegisterTransitCallback(distance_callback)\n",
        "    routing.SetArcCostEvaluatorOfAllVehicles(transit_callback_index)\n",
        "\n",
        "    # Demand callback\n",
        "    def demand_callback(from_index):\n",
        "        from_node = manager.IndexToNode(from_index)\n",
        "        return data['demand'][from_node]\n",
        "\n",
        "    demand_callback_index = routing.RegisterUnaryTransitCallback(demand_callback)\n",
        "    routing.AddDimensionWithVehicleCapacity(\n",
        "        demand_callback_index,\n",
        "        0,  # no slack\n",
        "        data['vehicles_capacity'],\n",
        "        True,\n",
        "        'Capacity'\n",
        "    )\n",
        "\n",
        "    # Map each node to a cluster\n",
        "    node_to_cluster = {}\n",
        "    for cluster_idx, cluster_nodes in enumerate(clusters):\n",
        "        for node in cluster_nodes:\n",
        "            node_to_cluster[node] = cluster_idx\n",
        "    node_to_cluster[depot] = -1  # depot not in any cluster\n",
        "\n",
        "    # Assign vehicles to clusters\n",
        "    vehicles_per_cluster = vehicles // len(clusters)\n",
        "    node_allowed_vehicles = {node: set(range(vehicles)) for node in range(num_nodes)}\n",
        "\n",
        "    for cluster_idx, cluster_nodes in enumerate(clusters):\n",
        "        cluster_vehicles = range(cluster_idx * vehicles_per_cluster, (cluster_idx + 1) * vehicles_per_cluster)\n",
        "\n",
        "        for node in range(1, num_nodes):  # exclude depot\n",
        "            node_cluster = node_to_cluster.get(node, -1)\n",
        "            if node_cluster != cluster_idx:\n",
        "                # this node should not be visited by vehicles in this cluster\n",
        "                for v in cluster_vehicles:\n",
        "                    if v in node_allowed_vehicles[node]:\n",
        "                        node_allowed_vehicles[node].remove(v)\n",
        "\n",
        "\n",
        "    # Search strategy\n",
        "    search_parameters = pywrapcp.DefaultRoutingSearchParameters()\n",
        "    search_parameters.time_limit.seconds = 10\n",
        "    '''\n",
        "    First solution --> Constructive approach\n",
        "    '''\n",
        "    search_parameters.first_solution_strategy = routing_enums_pb2.FirstSolutionStrategy.PATH_CHEAPEST_ARC\n",
        "    '''\n",
        "    Local Search --> Improving approach\n",
        "    '''\n",
        "    search_parameters.local_search_metaheuristic = routing_enums_pb2.LocalSearchMetaheuristic.GUIDED_LOCAL_SEARCH\n",
        "\n",
        "    solution = routing.SolveWithParameters(search_parameters)\n",
        "\n",
        "    return routing, manager, solution\n",
        "\n"
      ],
      "metadata": {
        "id": "1dKEA36N8rGE"
      },
      "execution_count": null,
      "outputs": []
    },
    {
      "cell_type": "markdown",
      "source": [
        "### Displaying the solution"
      ],
      "metadata": {
        "id": "rB6hYFqj-Xi6"
      }
    },
    {
      "cell_type": "code",
      "source": [
        "clusters = cluster_by_closeness(demands, virtual_distance_matrix, max_cluster_size=9)\n",
        "\n",
        "routing, manager, solution = solve_clusters(\n",
        "    clusters,\n",
        "    virtual_distance_matrix,\n",
        "    demands,\n",
        "    vehicles_capacity,\n",
        "    vehicles,\n",
        "    use_local_search=True\n",
        ")\n",
        "\n",
        "if not solution:\n",
        "    print(\"\\n No valid solution found.\")\n",
        "else:\n",
        "    total_distance_all_clusters = 0\n",
        "\n",
        "    # Build node -> cluster index map\n",
        "    node_to_cluster = {}\n",
        "    for cluster_idx, cluster in enumerate(clusters):\n",
        "        for node in cluster:\n",
        "            node_to_cluster[node] = cluster_idx\n",
        "\n",
        "    cluster_routes = {i: [] for i in range(len(clusters))}\n",
        "    cluster_served_demand = {i: 0 for i in range(len(clusters))}  # Initialize demand tracker\n",
        "\n",
        "    for vehicle_id in range(routing.vehicles()):\n",
        "        index = routing.Start(vehicle_id)\n",
        "        route = []\n",
        "        route_demand = 0\n",
        "        route_distance = 0\n",
        "\n",
        "        while not routing.IsEnd(index):\n",
        "            node_index = manager.IndexToNode(index)\n",
        "            route.append(node_index)\n",
        "            route_demand += demands[node_index]\n",
        "            previous_index = index\n",
        "            index = solution.Value(routing.NextVar(index))\n",
        "\n",
        "            if not routing.IsEnd(index):\n",
        "                from_node = manager.IndexToNode(previous_index)\n",
        "                to_node = manager.IndexToNode(index)\n",
        "                route_distance += virtual_distance_matrix[from_node][to_node]\n",
        "\n",
        "        node_index = manager.IndexToNode(index)\n",
        "        route.append(node_index)\n",
        "        from_node = manager.IndexToNode(previous_index)\n",
        "        to_node = manager.IndexToNode(index)\n",
        "        route_distance += virtual_distance_matrix[from_node][to_node]\n",
        "\n",
        "        if len(route) <= 2:  # ignoring vehicles that served no customers\n",
        "            continue\n",
        "\n",
        "        # Identify the cluster this vehicle served\n",
        "        first_customer = next((n for n in route if n != 0), None)\n",
        "        cluster_id = node_to_cluster.get(first_customer, -1)\n",
        "        if cluster_id == -1:\n",
        "            continue\n",
        "\n",
        "        cluster_routes[cluster_id].append({\n",
        "            'vehicle_id': vehicle_id,\n",
        "            'route': route,\n",
        "            'demand': route_demand,\n",
        "            'distance': route_distance\n",
        "        })\n",
        "\n",
        "        cluster_served_demand[cluster_id] += route_demand\n",
        "        total_distance_all_clusters += route_distance\n",
        "\n",
        "    # Printing results per cluster\n",
        "    for cluster_id, routes in cluster_routes.items():\n",
        "        if not routes:\n",
        "            print(f\"\\n △ Cluster {cluster_id + 1}: No trucks assigned\")\n",
        "            continue\n",
        "\n",
        "        print(f\"\\n △ Cluster {cluster_id + 1}:\")\n",
        "        cluster_distance = 0\n",
        "\n",
        "        for route_info in routes:\n",
        "            vehicle_id = route_info['vehicle_id']\n",
        "            route = route_info['route']\n",
        "            route_demand = route_info['demand']\n",
        "            route_distance = route_info['distance']\n",
        "\n",
        "            print(f\"\\n Truck {vehicle_id + 1} (capacity {vehicles_capacity[0]}):\")\n",
        "            print(f\"    ◦ Total Demand: {route_demand}\")\n",
        "            print(f\"    ◦ Route Distance: {route_distance} km\")\n",
        "            print(\"    ◦ Stops:\")\n",
        "            for idx in route:\n",
        "                node_id = virtual_nodes[idx]['node_id']\n",
        "                city = virtual_nodes[idx]['city']\n",
        "                print(f\"      • {node_id} ({city})\")\n",
        "\n",
        "            cluster_distance += route_distance\n",
        "\n",
        "        print(f\"\\n Total Distance for Cluster {cluster_id + 1}: {cluster_distance} km\")\n",
        "\n",
        "    print(f\"\\n -----> TOTAL DISTANCE ACROSS ALL CLUSTERS: {total_distance_all_clusters} km\")\n",
        "    print(f\"\\n -----> TOTAL DEMAND SERVED ACROSS ALL CLUSTERS: {sum(cluster_served_demand.values())}\")\n"
      ],
      "metadata": {
        "collapsed": true,
        "id": "C-LVe3jC-JZp"
      },
      "execution_count": null,
      "outputs": []
    },
    {
      "cell_type": "markdown",
      "source": [
        "### Visualization in QGIS"
      ],
      "metadata": {
        "id": "tqWtIXDF-aUx"
      }
    },
    {
      "cell_type": "code",
      "source": [
        "import geojson\n",
        "import time\n",
        "\n",
        "# Extracting the routes from OR-Tools solution\n",
        "def extract_routes(manager, routing, solution):\n",
        "    all_routes = []\n",
        "    for vehicle_id in range(routing.vehicles()):\n",
        "        index = routing.Start(vehicle_id)\n",
        "        route = []\n",
        "        while not routing.IsEnd(index):\n",
        "            node_index = manager.IndexToNode(index)\n",
        "            route.append(node_index)\n",
        "            index = solution.Value(routing.NextVar(index))\n",
        "        route.append(manager.IndexToNode(index))  # end depot\n",
        "        if len(route) > 2:\n",
        "            all_routes.append(route)\n",
        "    return all_routes\n",
        "\n",
        "'''\n",
        "This part takes a list of coordinates and asks an\n",
        "external routing (in our case, the API key already used to compute the\n",
        "real-world distances) to return actual road route geometry.\n",
        "'''\n",
        "def get_route_geometry(client, coord_list):\n",
        "    try:\n",
        "        time.sleep(1)  # avoid rate limit\n",
        "        route = client.directions(\n",
        "            coordinates=coord_list,\n",
        "            profile='driving-hgv',\n",
        "            format='geojson',\n",
        "            radiuses=[1000] * len(coord_list)\n",
        "        )\n",
        "        return route['features'][0]['geometry']\n",
        "    except Exception as e:\n",
        "        print(f\"Error fetching route geometry: {e}\")\n",
        "        return None\n",
        "\n",
        "# Convert all routes into GeoJSON collection\n",
        "def routes_to_geojson_with_clusters(clustered_routes, clustered_node_coords, label_prefix, client):\n",
        "    features = []\n",
        "    for cluster_idx, routes in enumerate(clustered_routes):\n",
        "        for route_idx, route in enumerate(routes):\n",
        "            coords = [clustered_node_coords[cluster_idx][node] for node in route]\n",
        "            geometry = get_route_geometry(client, coords)\n",
        "            if geometry:\n",
        "                feature = geojson.Feature(\n",
        "                    geometry=geometry,\n",
        "                    properties={\n",
        "                        \"cluster\": cluster_idx + 1,\n",
        "                        \"route_id\": f\"{label_prefix}_{cluster_idx}_{route_idx}\"\n",
        "                    }\n",
        "                )\n",
        "                features.append(feature)\n",
        "    return geojson.FeatureCollection(features)\n",
        "\n",
        "clusters = cluster_by_closeness(demands, virtual_distance_matrix, max_cluster_size=9)\n",
        "\n",
        "routing, manager, solution = solve_clusters(\n",
        "    clusters,\n",
        "    virtual_distance_matrix,\n",
        "    demands,\n",
        "    vehicles_capacity,\n",
        "    vehicles,\n",
        "    use_local_search=True\n",
        ")\n",
        "\n",
        "if not solution:\n",
        "    print(\"No valid solution found.\")\n",
        "else:\n",
        "    all_routes = extract_routes(manager, routing, solution)\n",
        "\n",
        "    # Build node -> cluster map\n",
        "    node_to_cluster = {}\n",
        "    for cluster_idx, cluster in enumerate(clusters):\n",
        "        for node in cluster:\n",
        "            node_to_cluster[node] = cluster_idx\n",
        "\n",
        "    # Group routes per cluster\n",
        "    all_cluster_routes = [[] for _ in range(len(clusters))]\n",
        "    all_cluster_coords = [{} for _ in range(len(clusters))]\n",
        "\n",
        "    for route in all_routes:\n",
        "        first_customer = next((n for n in route if n != 0), None)\n",
        "        cluster_id = node_to_cluster.get(first_customer, -1)\n",
        "        if cluster_id == -1:\n",
        "            continue\n",
        "\n",
        "        all_cluster_routes[cluster_id].append(route)\n",
        "\n",
        "        for node in route:\n",
        "            if node not in all_cluster_coords[cluster_id]:\n",
        "                all_cluster_coords[cluster_id][node] = (\n",
        "                    virtual_nodes[node]['x'],\n",
        "                    virtual_nodes[node]['y']\n",
        "                )\n",
        "\n",
        "    geojson_clustered = routes_to_geojson_with_clusters(\n",
        "        all_cluster_routes,\n",
        "        all_cluster_coords,\n",
        "        label_prefix=\"Cluster\",\n",
        "        client=client\n",
        "    )\n",
        "\n",
        "    with open(\"clustering_by_closeness.geojson\", \"w\") as f:\n",
        "        geojson.dump(geojson_clustered, f)"
      ],
      "metadata": {
        "collapsed": true,
        "id": "xdNH_SUjKDEG"
      },
      "execution_count": null,
      "outputs": []
    },
    {
      "cell_type": "markdown",
      "source": [
        "## Clustering by demand"
      ],
      "metadata": {
        "id": "aVein1a1b1Hr"
      }
    },
    {
      "cell_type": "markdown",
      "source": [
        "### Clustering"
      ],
      "metadata": {
        "id": "jqeztRbM-lTg"
      }
    },
    {
      "cell_type": "code",
      "source": [
        "'''\n",
        "Starting from the highest-demand unvisited node and then\n",
        "adding other nodes while ensuring that max_cluster_demand is not exceeded\n",
        "'''\n",
        "\n",
        "def cluster_by_demand(demands, max_cluster_demand, max_cluster_size=None):\n",
        "\n",
        "    n = len(demands)\n",
        "    visited = [False] * n\n",
        "    visited[0] = True  # no depot\n",
        "    clusters = []\n",
        "\n",
        "    while any(not v for v in visited[1:]):\n",
        "        candidates = [(i, demands[i]) for i in range(1, n) if not visited[i]]\n",
        "        candidates.sort(key=lambda x: -x[1])\n",
        "        seed = candidates[0][0]\n",
        "\n",
        "        cluster = [seed]\n",
        "        visited[seed] = True\n",
        "        total_demand = demands[seed]\n",
        "\n",
        "        # Sorting remaining unvisited nodes (descending order)\n",
        "        for i, d in candidates[1:]:\n",
        "            if visited[i]:\n",
        "                continue\n",
        "            if max_cluster_size and len(cluster) >= max_cluster_size:\n",
        "                break\n",
        "            if max_cluster_demand and total_demand + d > max_cluster_demand:\n",
        "                continue\n",
        "\n",
        "            cluster.append(i)\n",
        "            visited[i] = True\n",
        "            total_demand += d\n",
        "\n",
        "        clusters.append(cluster)\n",
        "\n",
        "    return clusters\n"
      ],
      "metadata": {
        "id": "d_HPlyTSb4hP"
      },
      "execution_count": null,
      "outputs": []
    },
    {
      "cell_type": "markdown",
      "source": [
        "### Displaying the solution"
      ],
      "metadata": {
        "id": "0i0e8qoi-npy"
      }
    },
    {
      "cell_type": "code",
      "source": [
        "clusters = cluster_by_demand(demands, max_cluster_demand=200, max_cluster_size=None)\n",
        "\n",
        "routing, manager, solution = solve_clusters(\n",
        "    clusters,\n",
        "    virtual_distance_matrix,\n",
        "    demands,\n",
        "    vehicles_capacity,\n",
        "    vehicles,\n",
        "    use_local_search=True\n",
        ")\n",
        "\n",
        "if not solution:\n",
        "    print(\"\\n No valid solution found.\")\n",
        "else:\n",
        "    total_distance_all_clusters = 0\n",
        "\n",
        "    node_to_cluster = {}\n",
        "    for cluster_idx, cluster in enumerate(clusters):\n",
        "        for node in cluster:\n",
        "            node_to_cluster[node] = cluster_idx\n",
        "\n",
        "    cluster_routes = {i: [] for i in range(len(clusters))}\n",
        "    cluster_served_demand = {i: 0 for i in range(len(clusters))}\n",
        "\n",
        "    for vehicle_id in range(routing.vehicles()):\n",
        "        index = routing.Start(vehicle_id)\n",
        "        route = []\n",
        "        route_demand = 0\n",
        "        route_distance = 0\n",
        "\n",
        "        while not routing.IsEnd(index):\n",
        "            node_index = manager.IndexToNode(index)\n",
        "            route.append(node_index)\n",
        "            route_demand += demands[node_index]\n",
        "            previous_index = index\n",
        "            index = solution.Value(routing.NextVar(index))\n",
        "\n",
        "            if not routing.IsEnd(index):\n",
        "                from_node = manager.IndexToNode(previous_index)\n",
        "                to_node = manager.IndexToNode(index)\n",
        "                route_distance += virtual_distance_matrix[from_node][to_node]\n",
        "\n",
        "        node_index = manager.IndexToNode(index)\n",
        "        route.append(node_index)\n",
        "        from_node = manager.IndexToNode(previous_index)\n",
        "        to_node = manager.IndexToNode(index)\n",
        "        route_distance += virtual_distance_matrix[from_node][to_node]\n",
        "\n",
        "        if len(route) <= 2:\n",
        "            continue\n",
        "\n",
        "        first_customer = next((n for n in route if n != 0), None)\n",
        "        cluster_id = node_to_cluster.get(first_customer, -1)\n",
        "        if cluster_id == -1:\n",
        "            continue\n",
        "\n",
        "        cluster_routes[cluster_id].append({\n",
        "            'vehicle_id': vehicle_id,\n",
        "            'route': route,\n",
        "            'demand': route_demand,\n",
        "            'distance': route_distance\n",
        "        })\n",
        "\n",
        "        cluster_served_demand[cluster_id] += route_demand\n",
        "        total_distance_all_clusters += route_distance\n",
        "\n",
        "    for cluster_id, routes in cluster_routes.items():\n",
        "        if not routes:\n",
        "            print(f\"\\n △ Cluster {cluster_id + 1}: No trucks assigned\")\n",
        "            continue\n",
        "\n",
        "        print(f\"\\n △ Cluster {cluster_id + 1}:\")\n",
        "        cluster_distance = 0\n",
        "\n",
        "        for route_info in routes:\n",
        "            vehicle_id = route_info['vehicle_id']\n",
        "            route = route_info['route']\n",
        "            route_demand = route_info['demand']\n",
        "            route_distance = route_info['distance']\n",
        "\n",
        "            print(f\"\\n Truck {vehicle_id + 1} (capacity {vehicles_capacity[0]}):\")\n",
        "            print(f\"    ◦ Total Demand: {route_demand}\")\n",
        "            print(f\"    ◦ Route Distance: {route_distance} km\")\n",
        "            print(\"    ◦ Stops:\")\n",
        "            for idx in route:\n",
        "                node_id = virtual_nodes[idx]['node_id']\n",
        "                city = virtual_nodes[idx]['city']\n",
        "                print(f\"      • {node_id} ({city})\")\n",
        "\n",
        "            cluster_distance += route_distance\n",
        "\n",
        "        print(f\"\\n Total Distance for Cluster {cluster_id + 1}: {cluster_distance} km\")\n",
        "\n",
        "    print(f\"\\n -----> TOTAL DISTANCE ACROSS ALL CLUSTERS: {total_distance_all_clusters} km\")\n",
        "    print(f\"\\n -----> TOTAL DEMAND SERVED ACROSS ALL CLUSTERS: {sum(cluster_served_demand.values())}\")\n"
      ],
      "metadata": {
        "collapsed": true,
        "id": "lx4ncQgfb6jQ"
      },
      "execution_count": null,
      "outputs": []
    },
    {
      "cell_type": "markdown",
      "source": [
        "### Visualization in QGIS"
      ],
      "metadata": {
        "id": "BM2xt12c-rg9"
      }
    },
    {
      "cell_type": "code",
      "source": [
        "def extract_routes(manager, routing, solution):\n",
        "    all_routes = []\n",
        "    for vehicle_id in range(routing.vehicles()):\n",
        "        index = routing.Start(vehicle_id)\n",
        "        route = []\n",
        "        while not routing.IsEnd(index):\n",
        "            node_index = manager.IndexToNode(index)\n",
        "            route.append(node_index)\n",
        "            index = solution.Value(routing.NextVar(index))\n",
        "        route.append(manager.IndexToNode(index))  # end depot\n",
        "        if len(route) > 2:\n",
        "            all_routes.append(route)\n",
        "    return all_routes\n",
        "\n",
        "def get_route_geometry(client, coord_list):\n",
        "    try:\n",
        "        time.sleep(1)  # avoid rate limit\n",
        "        radiuses = [1000.0] * len(coord_list)\n",
        "        route = client.directions(\n",
        "            coordinates=coord_list,\n",
        "            profile='driving-hgv',\n",
        "            format='geojson',\n",
        "            radiuses=[1000] * len(coord_list)\n",
        "        )\n",
        "        return route['features'][0]['geometry']\n",
        "    except Exception as e:\n",
        "        print(f\"Error fetching route geometry: {e}\")\n",
        "        return None\n",
        "\n",
        "def routes_to_geojson_with_clusters(clustered_routes, clustered_node_coords, label_prefix, client):\n",
        "    features = []\n",
        "    for cluster_idx, routes in enumerate(clustered_routes):\n",
        "        for route_idx, route in enumerate(routes):\n",
        "            coords = [clustered_node_coords[cluster_idx][node] for node in route]\n",
        "            geometry = get_route_geometry(client, coords)\n",
        "            if geometry:\n",
        "                feature = geojson.Feature(\n",
        "                    geometry=geometry,\n",
        "                    properties={\n",
        "                        \"cluster\": cluster_idx + 1,\n",
        "                        \"route_id\": f\"{label_prefix}_{cluster_idx}_{route_idx}\"\n",
        "                    }\n",
        "                )\n",
        "                features.append(feature)\n",
        "    return geojson.FeatureCollection(features)\n",
        "\n",
        "clusters = cluster_by_demand(demands, max_cluster_demand=180, max_cluster_size=None)\n",
        "\n",
        "routing, manager, solution = solve_clusters(\n",
        "    clusters,\n",
        "    virtual_distance_matrix,\n",
        "    demands,\n",
        "    vehicles_capacity,\n",
        "    vehicles,\n",
        "    use_local_search=True\n",
        ")\n",
        "\n",
        "if not solution:\n",
        "    print(\"No valid solution found.\")\n",
        "else:\n",
        "    all_routes = extract_routes(manager, routing, solution)\n",
        "\n",
        "    # Build node -> cluster map\n",
        "    node_to_cluster = {}\n",
        "    for cluster_idx, cluster in enumerate(clusters):\n",
        "        for node in cluster:\n",
        "            node_to_cluster[node] = cluster_idx\n",
        "\n",
        "    # Group routes per cluster\n",
        "    all_cluster_routes = [[] for _ in range(len(clusters))]\n",
        "    all_cluster_coords = [{} for _ in range(len(clusters))]\n",
        "\n",
        "    for route in all_routes:\n",
        "        first_customer = next((n for n in route if n != 0), None)\n",
        "        cluster_id = node_to_cluster.get(first_customer, -1)\n",
        "        if cluster_id == -1:\n",
        "            continue\n",
        "\n",
        "        all_cluster_routes[cluster_id].append(route)\n",
        "\n",
        "        for node in route:\n",
        "            if node not in all_cluster_coords[cluster_id]:\n",
        "                all_cluster_coords[cluster_id][node] = (\n",
        "                    virtual_nodes[node]['x'],\n",
        "                    virtual_nodes[node]['y']\n",
        "                )\n",
        "\n",
        "    geojson_clustered = routes_to_geojson_with_clusters(\n",
        "        all_cluster_routes,\n",
        "        all_cluster_coords,\n",
        "        label_prefix=\"Cluster\",\n",
        "        client=client\n",
        "    )\n",
        "\n",
        "    with open(\"clustering_by_demand.geojson\", \"w\") as f:\n",
        "        geojson.dump(geojson_clustered, f)\n",
        "\n"
      ],
      "metadata": {
        "id": "lYRhoTdZRloB"
      },
      "execution_count": null,
      "outputs": []
    }
  ],
  "metadata": {
    "colab": {
      "provenance": [],
      "gpuType": "T4",
      "collapsed_sections": [
        "zhTgBrvzNO58"
      ]
    },
    "kernelspec": {
      "display_name": "Python 3",
      "name": "python3"
    },
    "language_info": {
      "name": "python"
    }
  },
  "nbformat": 4,
  "nbformat_minor": 0
}